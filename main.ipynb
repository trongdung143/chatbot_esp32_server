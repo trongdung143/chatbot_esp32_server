{
 "cells": [
  {
   "cell_type": "code",
   "execution_count": 1,
   "id": "7b9e931a",
   "metadata": {},
   "outputs": [],
   "source": [
    "import os"
   ]
  },
  {
   "cell_type": "code",
   "execution_count": 3,
   "id": "b01caf99",
   "metadata": {},
   "outputs": [
    {
     "name": "stdout",
     "output_type": "stream",
     "text": [
      "e:\\Project\\chatbot_esp32\\esp32_server\n"
     ]
    }
   ],
   "source": [
    "print(os.getcwd())"
   ]
  },
  {
   "cell_type": "code",
   "execution_count": 1,
   "id": "5aea6438",
   "metadata": {},
   "outputs": [],
   "source": [
    "from src.agents.workflow import graph\n",
    "from langchain_core.messages import HumanMessage\n",
    "import re"
   ]
  },
  {
   "cell_type": "code",
   "execution_count": null,
   "id": "f962aa78",
   "metadata": {},
   "outputs": [
    {
     "name": "stdout",
     "output_type": "stream",
     "text": [
      "Chào bạn!\n",
      "Đạo hàm,\n",
      "hiểu một cách đơn giản,\n",
      "là một công cụ toán học để đo tốc độ thay đổi của một hàm số tại một điểm cụ thể.\n",
      "Nó cho biết hàm số đó đang tăng lên hay giảm xuống nhanh như thế nào ở điểm đó.\n",
      "Bạn có muốn mình giải thích kỹ hơn về ứng dụng của nó không?\n",
      "=============\n",
      "Chào bạn! Đạo hàm, hiểu một cách đơn giản, là một công cụ toán học để đo tốc độ thay đổi của một hàm số tại một điểm cụ thể. Nó cho biết hàm số đó đang tăng lên hay giảm xuống nhanh như thế nào ở điểm đó. Bạn có muốn mình giải thích kỹ hơn về ứng dụng của nó không?\n"
     ]
    }
   ],
   "source": [
    "import re\n",
    "input_state = {\"messages\": HumanMessage(content=\"đạo hàm là gì?\"),}\n",
    "config = { \"configurable\": { \"thread_id\": \"1\", } }\n",
    "buf_text = \"\"\n",
    "temp = \"\"\n",
    "\n",
    "async for event in graph.astream(\n",
    "    input=input_state,\n",
    "    config=config,\n",
    "    stream_mode=[\"messages\", \"updates\"],\n",
    "    subgraphs=True,\n",
    "):\n",
    "    subgraph, data_type, chunk = event\n",
    "    if data_type != \"messages\":\n",
    "        continue\n",
    "\n",
    "    response, meta = chunk\n",
    "    text = response.content\n",
    "    if not text.strip():\n",
    "        continue\n",
    "\n",
    "    buf_text += text\n",
    "    temp += text\n",
    "\n",
    "    pattern = re.compile(r\"[^.?!,]*[.?!,]\")\n",
    "    matches = pattern.findall(buf_text)\n",
    "\n",
    "    if matches:\n",
    "        for sent in matches:\n",
    "            sentence = sent.strip()\n",
    "            if sentence:\n",
    "                print(sentence)\n",
    "        buf_text = re.sub(r\"^.*[.?!,]\", \"\", buf_text)\n",
    "\n",
    "print(\"=============\")\n",
    "print(temp.strip())"
   ]
  },
  {
   "cell_type": "code",
   "execution_count": null,
   "id": "3a4ec7e9",
   "metadata": {},
   "outputs": [
    {
     "name": "stdout",
     "output_type": "stream",
     "text": [
      "Chào bạn| có vẻ như bạn đang rất muốn tìm hiểu về đạo hàm nhỉ| Đạo hàm là một khái niệm quan trọng trong toán học| nó đo lường tốc độ thay đổi của một hàm số tại một điểm cụ thể| Nói một cách đơn giản| nó cho biết hàm số đó đang tăng hay giảm nhanh như thế nào| Bạn có muốn mình giải thích kỹ hơn về định nghĩa| công thức tính| hoặc ứng dụng của đạo hàm không|\n",
      "\n",
      "10\n"
     ]
    }
   ],
   "source": [
    "import re\n",
    "\n",
    "text = \"Xin chào, bạn khỏe không? Tôi ổn! Cảm ơn bạn.\"\n",
    "result = re.sub(r\"[.,!?]\", \"|\", buf_text)\n",
    "print(result)\n",
    "print(len(result.split(\"|\")))"
   ]
  }
 ],
 "metadata": {
  "kernelspec": {
   "display_name": ".venv",
   "language": "python",
   "name": "python3"
  },
  "language_info": {
   "codemirror_mode": {
    "name": "ipython",
    "version": 3
   },
   "file_extension": ".py",
   "mimetype": "text/x-python",
   "name": "python",
   "nbconvert_exporter": "python",
   "pygments_lexer": "ipython3",
   "version": "3.12.3"
  }
 },
 "nbformat": 4,
 "nbformat_minor": 5
}
